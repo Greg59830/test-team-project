{
  "nbformat": 4,
  "nbformat_minor": 0,
  "metadata": {
    "colab": {
      "provenance": [],
      "authorship_tag": "ABX9TyN2p/fopnxg3SXqToBPx/nu",
      "include_colab_link": true
    },
    "kernelspec": {
      "name": "python3",
      "display_name": "Python 3"
    },
    "language_info": {
      "name": "python"
    }
  },
  "cells": [
    {
      "cell_type": "markdown",
      "metadata": {
        "id": "view-in-github",
        "colab_type": "text"
      },
      "source": [
        "<a href=\"https://colab.research.google.com/github/Greg59830/test-team-project/blob/main/actor_actresss_imdb.ipynb\" target=\"_parent\"><img src=\"https://colab.research.google.com/assets/colab-badge.svg\" alt=\"Open In Colab\"/></a>"
      ]
    },
    {
      "cell_type": "code",
      "execution_count": 1,
      "metadata": {
        "colab": {
          "base_uri": "https://localhost:8080/"
        },
        "id": "1A-1o1NIP3YM",
        "outputId": "5dc5b455-2014-4f2d-ac6c-8b8d9b0b37ec"
      },
      "outputs": [
        {
          "output_type": "stream",
          "name": "stdout",
          "text": [
            "Mounted at /content/drive\n"
          ]
        }
      ],
      "source": [
        "# import panda\n",
        "import pandas as pd\n",
        "#import google drive\n",
        "from google.colab import drive\n",
        "drive.mount('/content/drive')"
      ]
    },
    {
      "cell_type": "code",
      "source": [
        "# Check les 2 premiers éléments de la table 'name basics'\n",
        "df = pd.read_csv(\"https://datasets.imdbws.com/name.basics.tsv.gz\", sep = \"\\t\",)\n",
        "print(df.head().to_markdown())"
      ],
      "metadata": {
        "colab": {
          "base_uri": "https://localhost:8080/"
        },
        "id": "KzsOx7oOQQtj",
        "outputId": "25f8d741-3d44-46d9-b1c0-10fc72c29605"
      },
      "execution_count": 2,
      "outputs": [
        {
          "output_type": "stream",
          "name": "stdout",
          "text": [
            "|    | nconst    | primaryName     |   birthYear | deathYear   | primaryProfession                   | knownForTitles                          |\n",
            "|---:|:----------|:----------------|------------:|:------------|:------------------------------------|:----------------------------------------|\n",
            "|  0 | nm0000001 | Fred Astaire    |        1899 | 1987        | soundtrack,actor,miscellaneous      | tt0050419,tt0053137,tt0072308,tt0031983 |\n",
            "|  1 | nm0000002 | Lauren Bacall   |        1924 | 2014        | actress,soundtrack                  | tt0037382,tt0038355,tt0075213,tt0117057 |\n",
            "|  2 | nm0000003 | Brigitte Bardot |        1934 | \\N          | actress,soundtrack,music_department | tt0057345,tt0054452,tt0049189,tt0056404 |\n",
            "|  3 | nm0000004 | John Belushi    |        1949 | 1982        | actor,soundtrack,writer             | tt0072562,tt0080455,tt0078723,tt0077975 |\n",
            "|  4 | nm0000005 | Ingmar Bergman  |        1918 | 2007        | writer,director,actor               | tt0050986,tt0060827,tt0083922,tt0069467 |\n"
          ]
        }
      ]
    },
    {
      "cell_type": "code",
      "source": [
        "#d'abord supprimer les NAN:\n",
        "df['birthYear'] = df['birthYear'].replace(to_replace='\\\\N',value='0')"
      ],
      "metadata": {
        "id": "gmGzT5tcQSpE"
      },
      "execution_count": 4,
      "outputs": []
    },
    {
      "cell_type": "code",
      "source": [
        "df['birthYear']= df['birthYear'].astype(int)"
      ],
      "metadata": {
        "id": "SbLC0kdtVQMc"
      },
      "execution_count": 5,
      "outputs": []
    },
    {
      "cell_type": "code",
      "source": [
        "print(df.loc[:,\"birthYear\"].dtypes)"
      ],
      "metadata": {
        "colab": {
          "base_uri": "https://localhost:8080/"
        },
        "id": "yKF7nXaOUFZV",
        "outputId": "f62d92c6-b2fb-4831-fbb6-698176040a2e"
      },
      "execution_count": 6,
      "outputs": [
        {
          "output_type": "stream",
          "name": "stdout",
          "text": [
            "int64\n"
          ]
        }
      ]
    },
    {
      "cell_type": "code",
      "source": [
        "#selectionner les acteurs nées apres 1900:\n",
        "birth = df['birthYear'] >= 1900\n",
        "#print(df[birth].tail().to_markdown())\n",
        "df= df[birth]\n",
        "print(df.head().to_markdown())"
      ],
      "metadata": {
        "colab": {
          "base_uri": "https://localhost:8080/"
        },
        "id": "lwjvtEw1Vn1M",
        "outputId": "fc740b08-1787-4d19-d409-9c54b7db0f86"
      },
      "execution_count": 7,
      "outputs": [
        {
          "output_type": "stream",
          "name": "stdout",
          "text": [
            "|    | nconst    | primaryName     |   birthYear | deathYear   | primaryProfession                   | knownForTitles                          |\n",
            "|---:|:----------|:----------------|------------:|:------------|:------------------------------------|:----------------------------------------|\n",
            "|  1 | nm0000002 | Lauren Bacall   |        1924 | 2014        | actress,soundtrack                  | tt0037382,tt0038355,tt0075213,tt0117057 |\n",
            "|  2 | nm0000003 | Brigitte Bardot |        1934 | \\N          | actress,soundtrack,music_department | tt0057345,tt0054452,tt0049189,tt0056404 |\n",
            "|  3 | nm0000004 | John Belushi    |        1949 | 1982        | actor,soundtrack,writer             | tt0072562,tt0080455,tt0078723,tt0077975 |\n",
            "|  4 | nm0000005 | Ingmar Bergman  |        1918 | 2007        | writer,director,actor               | tt0050986,tt0060827,tt0083922,tt0069467 |\n",
            "|  5 | nm0000006 | Ingrid Bergman  |        1915 | 1982        | actress,soundtrack,producer         | tt0038109,tt0034583,tt0077711,tt0036855 |\n"
          ]
        }
      ]
    },
    {
      "cell_type": "code",
      "source": [
        "#supprimer colonne KnownForTitles\n",
        "df=df.drop(['knownForTitles'], axis=1)\n",
        "print(df.head().to_markdown())"
      ],
      "metadata": {
        "colab": {
          "base_uri": "https://localhost:8080/"
        },
        "id": "Pa0GuB05WDVS",
        "outputId": "08568041-af90-48ab-dc9b-902c2e3f1b2a"
      },
      "execution_count": 8,
      "outputs": [
        {
          "output_type": "stream",
          "name": "stdout",
          "text": [
            "|    | nconst    | primaryName     |   birthYear | deathYear   | primaryProfession                   |\n",
            "|---:|:----------|:----------------|------------:|:------------|:------------------------------------|\n",
            "|  1 | nm0000002 | Lauren Bacall   |        1924 | 2014        | actress,soundtrack                  |\n",
            "|  2 | nm0000003 | Brigitte Bardot |        1934 | \\N          | actress,soundtrack,music_department |\n",
            "|  3 | nm0000004 | John Belushi    |        1949 | 1982        | actor,soundtrack,writer             |\n",
            "|  4 | nm0000005 | Ingmar Bergman  |        1918 | 2007        | writer,director,actor               |\n",
            "|  5 | nm0000006 | Ingrid Bergman  |        1915 | 1982        | actress,soundtrack,producer         |\n"
          ]
        }
      ]
    },
    {
      "cell_type": "code",
      "source": [
        "#verifier nombre de lignes et nombre de profession différentes\n",
        "df.shape\n",
        "print(df.head(50).to_markdown())"
      ],
      "metadata": {
        "colab": {
          "base_uri": "https://localhost:8080/"
        },
        "id": "SDjft34wYL9e",
        "outputId": "5fac285e-b721-4493-ba42-dcc4283e2a0b"
      },
      "execution_count": 9,
      "outputs": [
        {
          "output_type": "stream",
          "name": "stdout",
          "text": [
            "|    | nconst    | primaryName          |   birthYear | deathYear   | primaryProfession                     |\n",
            "|---:|:----------|:---------------------|------------:|:------------|:--------------------------------------|\n",
            "|  1 | nm0000002 | Lauren Bacall        |        1924 | 2014        | actress,soundtrack                    |\n",
            "|  2 | nm0000003 | Brigitte Bardot      |        1934 | \\N          | actress,soundtrack,music_department   |\n",
            "|  3 | nm0000004 | John Belushi         |        1949 | 1982        | actor,soundtrack,writer               |\n",
            "|  4 | nm0000005 | Ingmar Bergman       |        1918 | 2007        | writer,director,actor                 |\n",
            "|  5 | nm0000006 | Ingrid Bergman       |        1915 | 1982        | actress,soundtrack,producer           |\n",
            "|  7 | nm0000008 | Marlon Brando        |        1924 | 2004        | actor,soundtrack,director             |\n",
            "|  8 | nm0000009 | Richard Burton       |        1925 | 1984        | actor,soundtrack,producer             |\n",
            "| 10 | nm0000011 | Gary Cooper          |        1901 | 1961        | actor,soundtrack,producer             |\n",
            "| 11 | nm0000012 | Bette Davis          |        1908 | 1989        | actress,soundtrack,make_up_department |\n",
            "| 12 | nm0000013 | Doris Day            |        1922 | 2019        | soundtrack,actress,producer           |\n",
            "| 13 | nm0000014 | Olivia de Havilland  |        1916 | 2020        | actress,soundtrack                    |\n",
            "| 14 | nm0000015 | James Dean           |        1931 | 1955        | actor,miscellaneous                   |\n",
            "| 15 | nm0000016 | Georges Delerue      |        1925 | 1992        | composer,soundtrack,music_department  |\n",
            "| 16 | nm0000017 | Marlene Dietrich     |        1901 | 1992        | soundtrack,actress,music_department   |\n",
            "| 17 | nm0000018 | Kirk Douglas         |        1916 | 2020        | actor,producer,soundtrack             |\n",
            "| 18 | nm0000019 | Federico Fellini     |        1920 | 1993        | writer,director,assistant_director    |\n",
            "| 19 | nm0000020 | Henry Fonda          |        1905 | 1982        | actor,producer,soundtrack             |\n",
            "| 20 | nm0000021 | Joan Fontaine        |        1917 | 2013        | actress,soundtrack,producer           |\n",
            "| 21 | nm0000022 | Clark Gable          |        1901 | 1960        | actor,soundtrack,producer             |\n",
            "| 22 | nm0000023 | Judy Garland         |        1922 | 1969        | soundtrack,actress                    |\n",
            "| 23 | nm0000024 | John Gielgud         |        1904 | 2000        | actor,writer,director                 |\n",
            "| 24 | nm0000025 | Jerry Goldsmith      |        1929 | 2004        | music_department,soundtrack,composer  |\n",
            "| 25 | nm0000026 | Cary Grant           |        1904 | 1986        | actor,soundtrack,producer             |\n",
            "| 26 | nm0000027 | Alec Guinness        |        1914 | 2000        | actor,soundtrack,writer               |\n",
            "| 27 | nm0000028 | Rita Hayworth        |        1918 | 1987        | actress,soundtrack,producer           |\n",
            "| 28 | nm0000029 | Margaux Hemingway    |        1954 | 1996        | actress,miscellaneous                 |\n",
            "| 29 | nm0000030 | Audrey Hepburn       |        1929 | 1993        | actress,soundtrack                    |\n",
            "| 30 | nm0000031 | Katharine Hepburn    |        1907 | 2003        | actress,soundtrack,writer             |\n",
            "| 31 | nm0000032 | Charlton Heston      |        1923 | 2008        | actor,director,writer                 |\n",
            "| 33 | nm0000034 | William Holden       |        1918 | 1981        | actor,soundtrack                      |\n",
            "| 34 | nm0000035 | James Horner         |        1953 | 2015        | music_department,soundtrack,composer  |\n",
            "| 36 | nm0000037 | Gene Kelly           |        1912 | 1996        | soundtrack,actor,miscellaneous        |\n",
            "| 37 | nm0000038 | Grace Kelly          |        1929 | 1982        | actress,soundtrack                    |\n",
            "| 38 | nm0000039 | Deborah Kerr         |        1921 | 2007        | actress,soundtrack                    |\n",
            "| 39 | nm0000040 | Stanley Kubrick      |        1928 | 1999        | writer,director,producer              |\n",
            "| 40 | nm0000041 | Akira Kurosawa       |        1910 | 1998        | writer,director,assistant_director    |\n",
            "| 41 | nm0000042 | Alan Ladd            |        1913 | 1964        | actor,producer,camera_department      |\n",
            "| 42 | nm0000043 | Veronica Lake        |        1922 | 1973        | actress,soundtrack,producer           |\n",
            "| 43 | nm0000044 | Burt Lancaster       |        1913 | 1994        | actor,producer,miscellaneous          |\n",
            "| 44 | nm0000045 | Bruce Lee            |        1940 | 1973        | actor,writer,miscellaneous            |\n",
            "| 45 | nm0000046 | Vivien Leigh         |        1913 | 1967        | actress,soundtrack,writer             |\n",
            "| 46 | nm0000047 | Sophia Loren         |        1934 | \\N          | actress,soundtrack                    |\n",
            "| 47 | nm0000048 | Peter Lorre          |        1904 | 1964        | actor,soundtrack,writer               |\n",
            "| 48 | nm0000049 | Henry Mancini        |        1924 | 1994        | music_department,soundtrack,composer  |\n",
            "| 50 | nm0000051 | James Mason          |        1909 | 1984        | actor,producer,writer                 |\n",
            "| 51 | nm0000052 | Marcello Mastroianni |        1924 | 1996        | actor,producer,soundtrack             |\n",
            "| 52 | nm0000053 | Robert Mitchum       |        1917 | 1997        | actor,soundtrack,producer             |\n",
            "| 53 | nm0000054 | Marilyn Monroe       |        1926 | 1962        | soundtrack,actress,writer             |\n",
            "| 54 | nm0000055 | Alfred Newman        |        1900 | 1970        | music_department,composer,soundtrack  |\n",
            "| 55 | nm0000056 | Paul Newman          |        1925 | 2008        | actor,producer,director               |\n"
          ]
        }
      ]
    },
    {
      "cell_type": "code",
      "source": [
        "#ne garder que les actor ou actress\n",
        "actor =df['primaryProfession'].str.contains(pat='actor') | df['primaryProfession'].str.contains(pat='actress')\n",
        "#print(df[actor].head().to_markdown())\n",
        "new_df_actor=df\n",
        "print(df.head(50).to_markdown())"
      ],
      "metadata": {
        "colab": {
          "base_uri": "https://localhost:8080/"
        },
        "id": "60UXJ18QZwYN",
        "outputId": "efa81f84-821e-4355-e67b-8eee7cfb5526"
      },
      "execution_count": 10,
      "outputs": [
        {
          "output_type": "stream",
          "name": "stdout",
          "text": [
            "|    | nconst    | primaryName          |   birthYear | deathYear   | primaryProfession                     |\n",
            "|---:|:----------|:---------------------|------------:|:------------|:--------------------------------------|\n",
            "|  1 | nm0000002 | Lauren Bacall        |        1924 | 2014        | actress,soundtrack                    |\n",
            "|  2 | nm0000003 | Brigitte Bardot      |        1934 | \\N          | actress,soundtrack,music_department   |\n",
            "|  3 | nm0000004 | John Belushi         |        1949 | 1982        | actor,soundtrack,writer               |\n",
            "|  4 | nm0000005 | Ingmar Bergman       |        1918 | 2007        | writer,director,actor                 |\n",
            "|  5 | nm0000006 | Ingrid Bergman       |        1915 | 1982        | actress,soundtrack,producer           |\n",
            "|  7 | nm0000008 | Marlon Brando        |        1924 | 2004        | actor,soundtrack,director             |\n",
            "|  8 | nm0000009 | Richard Burton       |        1925 | 1984        | actor,soundtrack,producer             |\n",
            "| 10 | nm0000011 | Gary Cooper          |        1901 | 1961        | actor,soundtrack,producer             |\n",
            "| 11 | nm0000012 | Bette Davis          |        1908 | 1989        | actress,soundtrack,make_up_department |\n",
            "| 12 | nm0000013 | Doris Day            |        1922 | 2019        | soundtrack,actress,producer           |\n",
            "| 13 | nm0000014 | Olivia de Havilland  |        1916 | 2020        | actress,soundtrack                    |\n",
            "| 14 | nm0000015 | James Dean           |        1931 | 1955        | actor,miscellaneous                   |\n",
            "| 15 | nm0000016 | Georges Delerue      |        1925 | 1992        | composer,soundtrack,music_department  |\n",
            "| 16 | nm0000017 | Marlene Dietrich     |        1901 | 1992        | soundtrack,actress,music_department   |\n",
            "| 17 | nm0000018 | Kirk Douglas         |        1916 | 2020        | actor,producer,soundtrack             |\n",
            "| 18 | nm0000019 | Federico Fellini     |        1920 | 1993        | writer,director,assistant_director    |\n",
            "| 19 | nm0000020 | Henry Fonda          |        1905 | 1982        | actor,producer,soundtrack             |\n",
            "| 20 | nm0000021 | Joan Fontaine        |        1917 | 2013        | actress,soundtrack,producer           |\n",
            "| 21 | nm0000022 | Clark Gable          |        1901 | 1960        | actor,soundtrack,producer             |\n",
            "| 22 | nm0000023 | Judy Garland         |        1922 | 1969        | soundtrack,actress                    |\n",
            "| 23 | nm0000024 | John Gielgud         |        1904 | 2000        | actor,writer,director                 |\n",
            "| 24 | nm0000025 | Jerry Goldsmith      |        1929 | 2004        | music_department,soundtrack,composer  |\n",
            "| 25 | nm0000026 | Cary Grant           |        1904 | 1986        | actor,soundtrack,producer             |\n",
            "| 26 | nm0000027 | Alec Guinness        |        1914 | 2000        | actor,soundtrack,writer               |\n",
            "| 27 | nm0000028 | Rita Hayworth        |        1918 | 1987        | actress,soundtrack,producer           |\n",
            "| 28 | nm0000029 | Margaux Hemingway    |        1954 | 1996        | actress,miscellaneous                 |\n",
            "| 29 | nm0000030 | Audrey Hepburn       |        1929 | 1993        | actress,soundtrack                    |\n",
            "| 30 | nm0000031 | Katharine Hepburn    |        1907 | 2003        | actress,soundtrack,writer             |\n",
            "| 31 | nm0000032 | Charlton Heston      |        1923 | 2008        | actor,director,writer                 |\n",
            "| 33 | nm0000034 | William Holden       |        1918 | 1981        | actor,soundtrack                      |\n",
            "| 34 | nm0000035 | James Horner         |        1953 | 2015        | music_department,soundtrack,composer  |\n",
            "| 36 | nm0000037 | Gene Kelly           |        1912 | 1996        | soundtrack,actor,miscellaneous        |\n",
            "| 37 | nm0000038 | Grace Kelly          |        1929 | 1982        | actress,soundtrack                    |\n",
            "| 38 | nm0000039 | Deborah Kerr         |        1921 | 2007        | actress,soundtrack                    |\n",
            "| 39 | nm0000040 | Stanley Kubrick      |        1928 | 1999        | writer,director,producer              |\n",
            "| 40 | nm0000041 | Akira Kurosawa       |        1910 | 1998        | writer,director,assistant_director    |\n",
            "| 41 | nm0000042 | Alan Ladd            |        1913 | 1964        | actor,producer,camera_department      |\n",
            "| 42 | nm0000043 | Veronica Lake        |        1922 | 1973        | actress,soundtrack,producer           |\n",
            "| 43 | nm0000044 | Burt Lancaster       |        1913 | 1994        | actor,producer,miscellaneous          |\n",
            "| 44 | nm0000045 | Bruce Lee            |        1940 | 1973        | actor,writer,miscellaneous            |\n",
            "| 45 | nm0000046 | Vivien Leigh         |        1913 | 1967        | actress,soundtrack,writer             |\n",
            "| 46 | nm0000047 | Sophia Loren         |        1934 | \\N          | actress,soundtrack                    |\n",
            "| 47 | nm0000048 | Peter Lorre          |        1904 | 1964        | actor,soundtrack,writer               |\n",
            "| 48 | nm0000049 | Henry Mancini        |        1924 | 1994        | music_department,soundtrack,composer  |\n",
            "| 50 | nm0000051 | James Mason          |        1909 | 1984        | actor,producer,writer                 |\n",
            "| 51 | nm0000052 | Marcello Mastroianni |        1924 | 1996        | actor,producer,soundtrack             |\n",
            "| 52 | nm0000053 | Robert Mitchum       |        1917 | 1997        | actor,soundtrack,producer             |\n",
            "| 53 | nm0000054 | Marilyn Monroe       |        1926 | 1962        | soundtrack,actress,writer             |\n",
            "| 54 | nm0000055 | Alfred Newman        |        1900 | 1970        | music_department,composer,soundtrack  |\n",
            "| 55 | nm0000056 | Paul Newman          |        1925 | 2008        | actor,producer,director               |\n"
          ]
        }
      ]
    },
    {
      "cell_type": "code",
      "source": [
        "actor =new_df_actor['primaryProfession'].str.contains(pat='actor') | new_df_actor['primaryProfession'].str.contains(pat='actress')\n",
        "new_df_actor['primaryProfession']= new_df_actor['primaryProfession'][actor]\n",
        "print(new_df_actor.head(50).to_markdown())"
      ],
      "metadata": {
        "colab": {
          "base_uri": "https://localhost:8080/"
        },
        "id": "nC2WVDaGf2Mj",
        "outputId": "06177bc5-615d-4a79-c9e5-7829ddce3540"
      },
      "execution_count": 11,
      "outputs": [
        {
          "output_type": "stream",
          "name": "stdout",
          "text": [
            "|    | nconst    | primaryName          |   birthYear | deathYear   | primaryProfession                     |\n",
            "|---:|:----------|:---------------------|------------:|:------------|:--------------------------------------|\n",
            "|  1 | nm0000002 | Lauren Bacall        |        1924 | 2014        | actress,soundtrack                    |\n",
            "|  2 | nm0000003 | Brigitte Bardot      |        1934 | \\N          | actress,soundtrack,music_department   |\n",
            "|  3 | nm0000004 | John Belushi         |        1949 | 1982        | actor,soundtrack,writer               |\n",
            "|  4 | nm0000005 | Ingmar Bergman       |        1918 | 2007        | writer,director,actor                 |\n",
            "|  5 | nm0000006 | Ingrid Bergman       |        1915 | 1982        | actress,soundtrack,producer           |\n",
            "|  7 | nm0000008 | Marlon Brando        |        1924 | 2004        | actor,soundtrack,director             |\n",
            "|  8 | nm0000009 | Richard Burton       |        1925 | 1984        | actor,soundtrack,producer             |\n",
            "| 10 | nm0000011 | Gary Cooper          |        1901 | 1961        | actor,soundtrack,producer             |\n",
            "| 11 | nm0000012 | Bette Davis          |        1908 | 1989        | actress,soundtrack,make_up_department |\n",
            "| 12 | nm0000013 | Doris Day            |        1922 | 2019        | soundtrack,actress,producer           |\n",
            "| 13 | nm0000014 | Olivia de Havilland  |        1916 | 2020        | actress,soundtrack                    |\n",
            "| 14 | nm0000015 | James Dean           |        1931 | 1955        | actor,miscellaneous                   |\n",
            "| 15 | nm0000016 | Georges Delerue      |        1925 | 1992        | nan                                   |\n",
            "| 16 | nm0000017 | Marlene Dietrich     |        1901 | 1992        | soundtrack,actress,music_department   |\n",
            "| 17 | nm0000018 | Kirk Douglas         |        1916 | 2020        | actor,producer,soundtrack             |\n",
            "| 18 | nm0000019 | Federico Fellini     |        1920 | 1993        | nan                                   |\n",
            "| 19 | nm0000020 | Henry Fonda          |        1905 | 1982        | actor,producer,soundtrack             |\n",
            "| 20 | nm0000021 | Joan Fontaine        |        1917 | 2013        | actress,soundtrack,producer           |\n",
            "| 21 | nm0000022 | Clark Gable          |        1901 | 1960        | actor,soundtrack,producer             |\n",
            "| 22 | nm0000023 | Judy Garland         |        1922 | 1969        | soundtrack,actress                    |\n",
            "| 23 | nm0000024 | John Gielgud         |        1904 | 2000        | actor,writer,director                 |\n",
            "| 24 | nm0000025 | Jerry Goldsmith      |        1929 | 2004        | nan                                   |\n",
            "| 25 | nm0000026 | Cary Grant           |        1904 | 1986        | actor,soundtrack,producer             |\n",
            "| 26 | nm0000027 | Alec Guinness        |        1914 | 2000        | actor,soundtrack,writer               |\n",
            "| 27 | nm0000028 | Rita Hayworth        |        1918 | 1987        | actress,soundtrack,producer           |\n",
            "| 28 | nm0000029 | Margaux Hemingway    |        1954 | 1996        | actress,miscellaneous                 |\n",
            "| 29 | nm0000030 | Audrey Hepburn       |        1929 | 1993        | actress,soundtrack                    |\n",
            "| 30 | nm0000031 | Katharine Hepburn    |        1907 | 2003        | actress,soundtrack,writer             |\n",
            "| 31 | nm0000032 | Charlton Heston      |        1923 | 2008        | actor,director,writer                 |\n",
            "| 33 | nm0000034 | William Holden       |        1918 | 1981        | actor,soundtrack                      |\n",
            "| 34 | nm0000035 | James Horner         |        1953 | 2015        | nan                                   |\n",
            "| 36 | nm0000037 | Gene Kelly           |        1912 | 1996        | soundtrack,actor,miscellaneous        |\n",
            "| 37 | nm0000038 | Grace Kelly          |        1929 | 1982        | actress,soundtrack                    |\n",
            "| 38 | nm0000039 | Deborah Kerr         |        1921 | 2007        | actress,soundtrack                    |\n",
            "| 39 | nm0000040 | Stanley Kubrick      |        1928 | 1999        | nan                                   |\n",
            "| 40 | nm0000041 | Akira Kurosawa       |        1910 | 1998        | nan                                   |\n",
            "| 41 | nm0000042 | Alan Ladd            |        1913 | 1964        | actor,producer,camera_department      |\n",
            "| 42 | nm0000043 | Veronica Lake        |        1922 | 1973        | actress,soundtrack,producer           |\n",
            "| 43 | nm0000044 | Burt Lancaster       |        1913 | 1994        | actor,producer,miscellaneous          |\n",
            "| 44 | nm0000045 | Bruce Lee            |        1940 | 1973        | actor,writer,miscellaneous            |\n",
            "| 45 | nm0000046 | Vivien Leigh         |        1913 | 1967        | actress,soundtrack,writer             |\n",
            "| 46 | nm0000047 | Sophia Loren         |        1934 | \\N          | actress,soundtrack                    |\n",
            "| 47 | nm0000048 | Peter Lorre          |        1904 | 1964        | actor,soundtrack,writer               |\n",
            "| 48 | nm0000049 | Henry Mancini        |        1924 | 1994        | nan                                   |\n",
            "| 50 | nm0000051 | James Mason          |        1909 | 1984        | actor,producer,writer                 |\n",
            "| 51 | nm0000052 | Marcello Mastroianni |        1924 | 1996        | actor,producer,soundtrack             |\n",
            "| 52 | nm0000053 | Robert Mitchum       |        1917 | 1997        | actor,soundtrack,producer             |\n",
            "| 53 | nm0000054 | Marilyn Monroe       |        1926 | 1962        | soundtrack,actress,writer             |\n",
            "| 54 | nm0000055 | Alfred Newman        |        1900 | 1970        | nan                                   |\n",
            "| 55 | nm0000056 | Paul Newman          |        1925 | 2008        | actor,producer,director               |\n"
          ]
        }
      ]
    },
    {
      "cell_type": "code",
      "source": [
        "#supprimer les NAN dans primary profession ex 2487\n",
        "test = df[df['primaryProfession'].notna()] \n",
        "print(test.head(50).to_markdown())"
      ],
      "metadata": {
        "id": "6GZ4FQcDhPE8",
        "colab": {
          "base_uri": "https://localhost:8080/"
        },
        "outputId": "25fd0489-8af7-41b3-9bd0-fa7c9d31ac42"
      },
      "execution_count": 14,
      "outputs": [
        {
          "output_type": "stream",
          "name": "stdout",
          "text": [
            "|    | nconst    | primaryName          |   birthYear | deathYear   | primaryProfession                     |\n",
            "|---:|:----------|:---------------------|------------:|:------------|:--------------------------------------|\n",
            "|  1 | nm0000002 | Lauren Bacall        |        1924 | 2014        | actress,soundtrack                    |\n",
            "|  2 | nm0000003 | Brigitte Bardot      |        1934 | \\N          | actress,soundtrack,music_department   |\n",
            "|  3 | nm0000004 | John Belushi         |        1949 | 1982        | actor,soundtrack,writer               |\n",
            "|  4 | nm0000005 | Ingmar Bergman       |        1918 | 2007        | writer,director,actor                 |\n",
            "|  5 | nm0000006 | Ingrid Bergman       |        1915 | 1982        | actress,soundtrack,producer           |\n",
            "|  7 | nm0000008 | Marlon Brando        |        1924 | 2004        | actor,soundtrack,director             |\n",
            "|  8 | nm0000009 | Richard Burton       |        1925 | 1984        | actor,soundtrack,producer             |\n",
            "| 10 | nm0000011 | Gary Cooper          |        1901 | 1961        | actor,soundtrack,producer             |\n",
            "| 11 | nm0000012 | Bette Davis          |        1908 | 1989        | actress,soundtrack,make_up_department |\n",
            "| 12 | nm0000013 | Doris Day            |        1922 | 2019        | soundtrack,actress,producer           |\n",
            "| 13 | nm0000014 | Olivia de Havilland  |        1916 | 2020        | actress,soundtrack                    |\n",
            "| 14 | nm0000015 | James Dean           |        1931 | 1955        | actor,miscellaneous                   |\n",
            "| 16 | nm0000017 | Marlene Dietrich     |        1901 | 1992        | soundtrack,actress,music_department   |\n",
            "| 17 | nm0000018 | Kirk Douglas         |        1916 | 2020        | actor,producer,soundtrack             |\n",
            "| 19 | nm0000020 | Henry Fonda          |        1905 | 1982        | actor,producer,soundtrack             |\n",
            "| 20 | nm0000021 | Joan Fontaine        |        1917 | 2013        | actress,soundtrack,producer           |\n",
            "| 21 | nm0000022 | Clark Gable          |        1901 | 1960        | actor,soundtrack,producer             |\n",
            "| 22 | nm0000023 | Judy Garland         |        1922 | 1969        | soundtrack,actress                    |\n",
            "| 23 | nm0000024 | John Gielgud         |        1904 | 2000        | actor,writer,director                 |\n",
            "| 25 | nm0000026 | Cary Grant           |        1904 | 1986        | actor,soundtrack,producer             |\n",
            "| 26 | nm0000027 | Alec Guinness        |        1914 | 2000        | actor,soundtrack,writer               |\n",
            "| 27 | nm0000028 | Rita Hayworth        |        1918 | 1987        | actress,soundtrack,producer           |\n",
            "| 28 | nm0000029 | Margaux Hemingway    |        1954 | 1996        | actress,miscellaneous                 |\n",
            "| 29 | nm0000030 | Audrey Hepburn       |        1929 | 1993        | actress,soundtrack                    |\n",
            "| 30 | nm0000031 | Katharine Hepburn    |        1907 | 2003        | actress,soundtrack,writer             |\n",
            "| 31 | nm0000032 | Charlton Heston      |        1923 | 2008        | actor,director,writer                 |\n",
            "| 33 | nm0000034 | William Holden       |        1918 | 1981        | actor,soundtrack                      |\n",
            "| 36 | nm0000037 | Gene Kelly           |        1912 | 1996        | soundtrack,actor,miscellaneous        |\n",
            "| 37 | nm0000038 | Grace Kelly          |        1929 | 1982        | actress,soundtrack                    |\n",
            "| 38 | nm0000039 | Deborah Kerr         |        1921 | 2007        | actress,soundtrack                    |\n",
            "| 41 | nm0000042 | Alan Ladd            |        1913 | 1964        | actor,producer,camera_department      |\n",
            "| 42 | nm0000043 | Veronica Lake        |        1922 | 1973        | actress,soundtrack,producer           |\n",
            "| 43 | nm0000044 | Burt Lancaster       |        1913 | 1994        | actor,producer,miscellaneous          |\n",
            "| 44 | nm0000045 | Bruce Lee            |        1940 | 1973        | actor,writer,miscellaneous            |\n",
            "| 45 | nm0000046 | Vivien Leigh         |        1913 | 1967        | actress,soundtrack,writer             |\n",
            "| 46 | nm0000047 | Sophia Loren         |        1934 | \\N          | actress,soundtrack                    |\n",
            "| 47 | nm0000048 | Peter Lorre          |        1904 | 1964        | actor,soundtrack,writer               |\n",
            "| 50 | nm0000051 | James Mason          |        1909 | 1984        | actor,producer,writer                 |\n",
            "| 51 | nm0000052 | Marcello Mastroianni |        1924 | 1996        | actor,producer,soundtrack             |\n",
            "| 52 | nm0000053 | Robert Mitchum       |        1917 | 1997        | actor,soundtrack,producer             |\n",
            "| 53 | nm0000054 | Marilyn Monroe       |        1926 | 1962        | soundtrack,actress,writer             |\n",
            "| 55 | nm0000056 | Paul Newman          |        1925 | 2008        | actor,producer,director               |\n",
            "| 56 | nm0000057 | David Niven          |        1910 | 1983        | actor,producer,soundtrack             |\n",
            "| 57 | nm0000058 | Maureen O'Hara       |        1920 | 2015        | actress,soundtrack                    |\n",
            "| 58 | nm0000059 | Laurence Olivier     |        1907 | 1989        | actor,producer,director               |\n",
            "| 59 | nm0000060 | Gregory Peck         |        1916 | 2003        | actor,producer,soundtrack             |\n",
            "| 60 | nm0000061 | Tyrone Power         |        1914 | 1958        | actor,soundtrack,producer             |\n",
            "| 61 | nm0000062 | Elvis Presley        |        1935 | 1977        | soundtrack,actor,music_department     |\n",
            "| 62 | nm0000063 | Anthony Quinn        |        1915 | 2001        | actor,producer,soundtrack             |\n",
            "| 65 | nm0000066 | Jane Russell         |        1921 | 2011        | actress,soundtrack,producer           |\n"
          ]
        }
      ]
    },
    {
      "cell_type": "code",
      "source": [
        "# on enregistre notre test\n",
        "new_df_actor = df[df['primaryProfession'].notna()] \n",
        "print(new_df_actor.head(50).to_markdown())"
      ],
      "metadata": {
        "colab": {
          "base_uri": "https://localhost:8080/"
        },
        "id": "SiO3DaufKqto",
        "outputId": "08118616-b9b0-4060-984c-5081d96cabd9"
      },
      "execution_count": 15,
      "outputs": [
        {
          "output_type": "stream",
          "name": "stdout",
          "text": [
            "|    | nconst    | primaryName          |   birthYear | deathYear   | primaryProfession                     |\n",
            "|---:|:----------|:---------------------|------------:|:------------|:--------------------------------------|\n",
            "|  1 | nm0000002 | Lauren Bacall        |        1924 | 2014        | actress,soundtrack                    |\n",
            "|  2 | nm0000003 | Brigitte Bardot      |        1934 | \\N          | actress,soundtrack,music_department   |\n",
            "|  3 | nm0000004 | John Belushi         |        1949 | 1982        | actor,soundtrack,writer               |\n",
            "|  4 | nm0000005 | Ingmar Bergman       |        1918 | 2007        | writer,director,actor                 |\n",
            "|  5 | nm0000006 | Ingrid Bergman       |        1915 | 1982        | actress,soundtrack,producer           |\n",
            "|  7 | nm0000008 | Marlon Brando        |        1924 | 2004        | actor,soundtrack,director             |\n",
            "|  8 | nm0000009 | Richard Burton       |        1925 | 1984        | actor,soundtrack,producer             |\n",
            "| 10 | nm0000011 | Gary Cooper          |        1901 | 1961        | actor,soundtrack,producer             |\n",
            "| 11 | nm0000012 | Bette Davis          |        1908 | 1989        | actress,soundtrack,make_up_department |\n",
            "| 12 | nm0000013 | Doris Day            |        1922 | 2019        | soundtrack,actress,producer           |\n",
            "| 13 | nm0000014 | Olivia de Havilland  |        1916 | 2020        | actress,soundtrack                    |\n",
            "| 14 | nm0000015 | James Dean           |        1931 | 1955        | actor,miscellaneous                   |\n",
            "| 16 | nm0000017 | Marlene Dietrich     |        1901 | 1992        | soundtrack,actress,music_department   |\n",
            "| 17 | nm0000018 | Kirk Douglas         |        1916 | 2020        | actor,producer,soundtrack             |\n",
            "| 19 | nm0000020 | Henry Fonda          |        1905 | 1982        | actor,producer,soundtrack             |\n",
            "| 20 | nm0000021 | Joan Fontaine        |        1917 | 2013        | actress,soundtrack,producer           |\n",
            "| 21 | nm0000022 | Clark Gable          |        1901 | 1960        | actor,soundtrack,producer             |\n",
            "| 22 | nm0000023 | Judy Garland         |        1922 | 1969        | soundtrack,actress                    |\n",
            "| 23 | nm0000024 | John Gielgud         |        1904 | 2000        | actor,writer,director                 |\n",
            "| 25 | nm0000026 | Cary Grant           |        1904 | 1986        | actor,soundtrack,producer             |\n",
            "| 26 | nm0000027 | Alec Guinness        |        1914 | 2000        | actor,soundtrack,writer               |\n",
            "| 27 | nm0000028 | Rita Hayworth        |        1918 | 1987        | actress,soundtrack,producer           |\n",
            "| 28 | nm0000029 | Margaux Hemingway    |        1954 | 1996        | actress,miscellaneous                 |\n",
            "| 29 | nm0000030 | Audrey Hepburn       |        1929 | 1993        | actress,soundtrack                    |\n",
            "| 30 | nm0000031 | Katharine Hepburn    |        1907 | 2003        | actress,soundtrack,writer             |\n",
            "| 31 | nm0000032 | Charlton Heston      |        1923 | 2008        | actor,director,writer                 |\n",
            "| 33 | nm0000034 | William Holden       |        1918 | 1981        | actor,soundtrack                      |\n",
            "| 36 | nm0000037 | Gene Kelly           |        1912 | 1996        | soundtrack,actor,miscellaneous        |\n",
            "| 37 | nm0000038 | Grace Kelly          |        1929 | 1982        | actress,soundtrack                    |\n",
            "| 38 | nm0000039 | Deborah Kerr         |        1921 | 2007        | actress,soundtrack                    |\n",
            "| 41 | nm0000042 | Alan Ladd            |        1913 | 1964        | actor,producer,camera_department      |\n",
            "| 42 | nm0000043 | Veronica Lake        |        1922 | 1973        | actress,soundtrack,producer           |\n",
            "| 43 | nm0000044 | Burt Lancaster       |        1913 | 1994        | actor,producer,miscellaneous          |\n",
            "| 44 | nm0000045 | Bruce Lee            |        1940 | 1973        | actor,writer,miscellaneous            |\n",
            "| 45 | nm0000046 | Vivien Leigh         |        1913 | 1967        | actress,soundtrack,writer             |\n",
            "| 46 | nm0000047 | Sophia Loren         |        1934 | \\N          | actress,soundtrack                    |\n",
            "| 47 | nm0000048 | Peter Lorre          |        1904 | 1964        | actor,soundtrack,writer               |\n",
            "| 50 | nm0000051 | James Mason          |        1909 | 1984        | actor,producer,writer                 |\n",
            "| 51 | nm0000052 | Marcello Mastroianni |        1924 | 1996        | actor,producer,soundtrack             |\n",
            "| 52 | nm0000053 | Robert Mitchum       |        1917 | 1997        | actor,soundtrack,producer             |\n",
            "| 53 | nm0000054 | Marilyn Monroe       |        1926 | 1962        | soundtrack,actress,writer             |\n",
            "| 55 | nm0000056 | Paul Newman          |        1925 | 2008        | actor,producer,director               |\n",
            "| 56 | nm0000057 | David Niven          |        1910 | 1983        | actor,producer,soundtrack             |\n",
            "| 57 | nm0000058 | Maureen O'Hara       |        1920 | 2015        | actress,soundtrack                    |\n",
            "| 58 | nm0000059 | Laurence Olivier     |        1907 | 1989        | actor,producer,director               |\n",
            "| 59 | nm0000060 | Gregory Peck         |        1916 | 2003        | actor,producer,soundtrack             |\n",
            "| 60 | nm0000061 | Tyrone Power         |        1914 | 1958        | actor,soundtrack,producer             |\n",
            "| 61 | nm0000062 | Elvis Presley        |        1935 | 1977        | soundtrack,actor,music_department     |\n",
            "| 62 | nm0000063 | Anthony Quinn        |        1915 | 2001        | actor,producer,soundtrack             |\n",
            "| 65 | nm0000066 | Jane Russell         |        1921 | 2011        | actress,soundtrack,producer           |\n"
          ]
        }
      ]
    }
  ]
}